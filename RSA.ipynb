{
  "nbformat": 4,
  "nbformat_minor": 0,
  "metadata": {
    "colab": {
      "provenance": [],
      "gpuType": "T4",
      "include_colab_link": true
    },
    "kernelspec": {
      "name": "python3",
      "display_name": "Python 3"
    },
    "language_info": {
      "name": "python"
    },
    "accelerator": "GPU"
  },
  "cells": [
    {
      "cell_type": "markdown",
      "metadata": {
        "id": "view-in-github",
        "colab_type": "text"
      },
      "source": [
        "<a href=\"https://colab.research.google.com/github/Isafon/CS356Labs25/blob/main/RSA.ipynb\" target=\"_parent\"><img src=\"https://colab.research.google.com/assets/colab-badge.svg\" alt=\"Open In Colab\"/></a>"
      ]
    },
    {
      "cell_type": "markdown",
      "source": [
        "## Part 1: RSA Encryption\n",
        "\n",
        "RSA is an asymmetric encryption scheme that follows three principle steps.\n",
        "* Key Generation\n",
        "* Encryption using Public Key\n",
        "* Decryption using Private Key\n",
        "\n"
      ],
      "metadata": {
        "id": "Da5KIRMTpYBn"
      }
    },
    {
      "cell_type": "markdown",
      "source": [
        "### Key Generation\n",
        "\n",
        "Key generation is somewhat complicated as unlike symmetric encryption schemes you are generating a key pair, or two keys that are mathematically linked together.\n",
        "\n",
        "The steps are:\n",
        "* Choosing prime numbers $p$ and $q$\n",
        "* Find $n$ the product of the primes $n = p*q$\n",
        "* Calculate the Euler Totient function $Φ(n) = (p - 1) * (q - 1)$\n",
        "\n",
        "The Euler Totient calculates the number of numbers up to n that are relatively prime or coprime to n; meaning that they share no common factors with n other than 1.\n",
        "\n",
        "* Find the encryption exponent $e$ where $1 < e < Φ(n)$ and $gcd(e, Φ(n)) = 1$\n",
        "\n",
        "In other words, e must be coprime to the Euler Totient function $Φ(n)$, this allows for the creation of $d$.\n",
        "\n",
        "* Calculate decryption exponent  $d$  where $d * e = 1 \\mod Φ(n) $\n",
        "\n",
        "d has a modular multiplicative inverse relationship with e, and there may be multiple keys that fit that relationship, all of them are valid.\n",
        "\n",
        "The public and private keys are then built using those calulated numbers paired together.\n",
        "\n",
        "public key = ($n , e$)\n",
        "private key = ($n , d$)\n"
      ],
      "metadata": {
        "id": "uO27Lpatqef7"
      }
    },
    {
      "cell_type": "code",
      "source": [
        "#functions needed for calculations\n",
        "#calculate the modular multiplicative inverse, python 3.8+ provides a built in use of the pow function to accomplish this d = pow(e, -1, n) where e is the encryption exponent and n is the Euler Totient\n",
        "import math as Math\n",
        "def modInverse(e, n):\n",
        "    return pow(e, -1, n)\n",
        "\n",
        "\n"
      ],
      "metadata": {
        "id": "QB7kzBepqdeZ"
      },
      "execution_count": null,
      "outputs": []
    },
    {
      "cell_type": "markdown",
      "source": [
        "#### Choosing Prime Numbers\n",
        "##### Why prime numbers?\n",
        "Prime numbers are unique in that they cannot be factored any further, for instance, the number 13 is the smallest it can be evenly reduced through division. This property is especially useful for generating keys, as when trying to guess a key if non-prime numbers are used to generate it, the factors of that generator number may be able to be used to deduce the non prime number. As RSA's encryption strength is based around the difficulty factoring very large numbers, adding the possibility of smaller factors through non prime numbers decreases the encryption strength.\n",
        "\n",
        "\n",
        "\n",
        "Choosing prime numbers is a bit arbitrary however the strength of your encryption is directly related the size of your prime number.The reason for this is the product of primes n which is both part of the keys and is directly related to the prime numbers $p$ and $q$. if $p$ and $q$ are small prime numbers it is relatively easy to find the factor pairs that multiply to find n from n. Take for instance\n",
        "\n",
        "$p = 31,\n",
        "q = 23,\n",
        "n = 713$\n",
        "\n",
        "Even by hand, finding the factors of 713 is not an exceedingly difficult task as it has relatively few factors and a smaller search space for those factors.\n",
        "\n",
        "Factors of 713: $1, 31, 23, 713$\n",
        "\n",
        "Compare that to trying to find the factors of 684,623. This is not as easy of a task to human mathematicians, though not impossible but still more simple to computers.\n",
        "\n",
        "1024 or 2048 bit prime number prodcuts are much harder to factor, the general rule is that the strength of the key depends on the size of the ***smallest*** prime number used to create $n$ because if either number is found both are found $q = n/p$ and $p = n/q$ and $n$ is a known part of the public key.\n",
        "\n",
        "The general rule is that if an attacker can find out what $p$ and $q$ are, they can easily search the possible keys generated from $p$ and $q$ for the decryption key/ private key.\n",
        "\n",
        "For this exercise, in the interest of execution time we will use somewhat small prime numbers.\n",
        "\n",
        "$p = 7793$\n",
        "$q = 3659$\n",
        "\n"
      ],
      "metadata": {
        "id": "R_la1ViAs3Yp"
      }
    },
    {
      "cell_type": "code",
      "source": [
        "\n",
        "def genKey(p, q):\n",
        "  #p, q = 94781 , 82153\n",
        "  #Calculate n\n",
        "  n = p*q\n",
        "  #Find the Euler Totient\n",
        "  Etot = (p-1)*(q-1)\n",
        "  e = 0\n",
        "  #Calculate a e that is coprime to the totient, it shares no factors other than 1\n",
        "  for e in range(2, Etot):\n",
        "      if Math.gcd(e, Etot) == 1:\n",
        "            break\n",
        "  #Find a d that has a modular inverse relationship with e and the totient\n",
        "  d = modInverse(e, Etot)\n",
        "\n",
        "  return (e, d, n)\n",
        "e, d, n = genKey(7793,3659)\n",
        "print(f'e is {e}, d is {d}, n is {n}')\n",
        "\n"
      ],
      "metadata": {
        "id": "9S4lJH2Os2xC"
      },
      "execution_count": null,
      "outputs": []
    },
    {
      "cell_type": "markdown",
      "source": [
        "#### Encryption\n",
        "\n",
        "Encryption in RSA is relatively simple, however, as it is computation based it can only be done on numbers, as such, any text must be converted or \"encoded\" into a numerical format. One way that this is done is by converting a string into its ascii values and appending them to create a long number. That number is then encrypted using RSA.\n",
        "\n",
        "The general form is\n",
        "$M^e\\mod n$\n",
        "Where M is the message, e is the encryption exponent and n is the product of primes.\n",
        "This is able to work due to the coprime relationship with the totient that is maintained between e an d which allows for decryption."
      ],
      "metadata": {
        "id": "GLG0JjtfJgY2"
      }
    },
    {
      "cell_type": "code",
      "source": [
        "def encrypt(e, n, M):\n",
        "  #Encryption takes the message raises it to the power of e (the encryption exponent) then takes the modulo of that product by n\n",
        "  return M**e % n\n",
        "\n",
        "orgtext = int(input('Please input a number Message: '))\n",
        "cipher = encrypt(e, n, orgtext)\n",
        "print(f'Cipher text is {cipher}')"
      ],
      "metadata": {
        "colab": {
          "base_uri": "https://localhost:8080/"
        },
        "id": "uqc3XriO3Kdg",
        "outputId": "803526d0-9b1d-4ec9-b917-f41a9d0408fb"
      },
      "execution_count": 3,
      "outputs": [
        {
          "output_type": "stream",
          "name": "stdout",
          "text": [
            "Please input a number Message: 888883838383\n",
            "Cipher text is 27217344\n"
          ]
        }
      ]
    },
    {
      "cell_type": "markdown",
      "source": [
        "#### Decryption\n",
        "Like encryption, decryption is relatively simple, in fact it follows the same form as encryption but with different keys. in fact, many implementations just create a single function to perform modular exponentiation, the operation required.\n",
        "\n",
        "The form for decryption is $C^d\\mod n$ where C is the cipher text, d is the encryption exponent and n is the product of primes.\n",
        "Its output is the numerical encoded form of the message that was encrypted earlier.\n"
      ],
      "metadata": {
        "id": "sfDtBKW_hmDk"
      }
    },
    {
      "cell_type": "code",
      "source": [
        "def decrypt(d, n, C):\n",
        "  #Decryption takes the cipher text, raises it to the power of d (the decryption exponent) and then takes the modulo of that product by n\n",
        "  return C**d % n\n",
        "plain = decrypt(d, n , cipher)\n",
        "print(f'Decrypted text is {plain}')\n"
      ],
      "metadata": {
        "id": "LcFHVHJZAjla"
      },
      "execution_count": null,
      "outputs": []
    },
    {
      "cell_type": "markdown",
      "source": [
        "#### Does which key is which matter?\n",
        "\n",
        "The public and private keys can each seperate encrypt or decrypt as the same mathematical operations are performed and they share the inverse modular relationship. However, as there is no specific requirement that $e$ is chosen at random from the possible comprimes of the totient, it is often chosen to be a smaller or more convenient number. You'll see the algorithm we provided makes no consideration for a random $e$, as such nonrandom $e$ values may be easier for an attacker to guess or brute force. Using that value to decrypt instead of encrypt may enable attackers to decrypt the message by guessing the decryption exponent."
      ],
      "metadata": {
        "id": "MD6MFll0jZJ1"
      }
    },
    {
      "cell_type": "code",
      "source": [
        "#this shows that you can encrypt with d and decrypt with e.\n",
        "x = 12\n",
        "encr = decrypt(d,n,x)\n",
        "print(f'encrypted is {encr}')\n",
        "decr = encrypt(e,n,encr)\n",
        "print(f'decrypted is {decr} ')"
      ],
      "metadata": {
        "id": "U3AWHvVwQcBJ"
      },
      "execution_count": null,
      "outputs": []
    },
    {
      "cell_type": "markdown",
      "source": [
        "#### Assignment\n",
        "\n",
        "Your job is to create experiments with different sizes of prime numbers and lengths of messages in this notebook and record your observations. In particular you should be able to answer the following questions:\n",
        "<ol>\n",
        "<li> How do longer prime numbers and longer messages effect speed of the RSA process?</li>\n",
        "<li> What part of the RSA process takes the most time, key generation, encryption or decryption. Why is that the slowest process?</li>\n",
        "<li> Is encryption or decryption faster? Why is one faster than the other?</li>\n",
        "</ol>\n",
        "\n",
        "#### What to turn in:\n",
        "A zip file containing:\n",
        "* A pdf file detailing your experiments and observations, your observations should include answers to the above questions as well as any additional insights.\n",
        "* This notebook including the experiments you performed and any changes to the code you made."
      ],
      "metadata": {
        "id": "tiZ6wjwxlW09"
      }
    }
  ]
}